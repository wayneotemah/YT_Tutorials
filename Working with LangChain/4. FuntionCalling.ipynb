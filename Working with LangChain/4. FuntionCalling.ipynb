{
 "cells": [
  {
   "cell_type": "markdown",
   "metadata": {},
   "source": [
    "## Tool calling\n",
    "\n",
    "Tool calling allows a model to respond to a given prompt by generating output that matches a user-defined schema. \n",
    "\n",
    "* NOTE : Despite the name, the does not execute the action! The model comes up with the arguments to a tool (of the provided tooks), then actually running the tool is up to the user (in this case developers)."
   ]
  },
  {
   "cell_type": "code",
   "execution_count": 1,
   "metadata": {},
   "outputs": [],
   "source": [
    "from langchain_core.tools import tool"
   ]
  },
  {
   "cell_type": "markdown",
   "metadata": {},
   "source": [
    "Tool creation with funtions"
   ]
  },
  {
   "cell_type": "code",
   "execution_count": 2,
   "metadata": {},
   "outputs": [],
   "source": [
    "@tool\n",
    "def get_current_weather(location: str) -> str:\n",
    "    \"\"\"Get the current weather in a given location.\n",
    "    Args:\n",
    "        location: The location to get the weather for.\n",
    "    \"\"\"\n",
    "    return f\"The current weather in {location} is sunny.\"\n",
    "\n",
    "@tool\n",
    "def get_weather_forecast(location: str) -> str:\n",
    "    \"\"\"Get the weather forecast for a given location.\n",
    "    Args:\n",
    "        location: The location to get the weather forecast for.\n",
    "    \"\"\"\n",
    "    return f\"The weather forecast for {location} is sunny and hot.\"\n",
    "\n",
    "@tool\n",
    "def get_holidays(location: str) -> str:\n",
    "    \"\"\"Get the upcoming holidays for a given location.\n",
    "    Args:\n",
    "        location: The location to get the upcoming holidays for.\n",
    "    \"\"\"\n",
    "    return f\"The upcoming holidays in {location} are holiday1, holiday2, and holiday3.\"\n",
    "\n",
    "@tool\n",
    "def get_currency_exchange(from_currency: str, to_currency: str) -> str:\n",
    "    \"\"\"Get the exchange rate between two currencies.\n",
    "    Args:\n",
    "        from_currency: The currency to convert from.\n",
    "        to_currency: The currency to convert to.\n",
    "    \"\"\"\n",
    "    return f\"The exchange rate between {from_currency} and {to_currency} is 1.0.\"\n"
   ]
  },
  {
   "cell_type": "code",
   "execution_count": 3,
   "metadata": {},
   "outputs": [],
   "source": [
    "tools  = [get_current_weather, get_weather_forecast, get_holidays, get_currency_exchange]"
   ]
  },
  {
   "cell_type": "code",
   "execution_count": 4,
   "metadata": {},
   "outputs": [],
   "source": [
    "tool_look_up = {\n",
    "    \"get_current_weather\": get_current_weather, \n",
    "    \"get_weather_forecast\": get_weather_forecast, \n",
    "    \"get_holidays\": get_holidays, \n",
    "    \"get_currency_exchange\": get_currency_exchange\n",
    "    }"
   ]
  },
  {
   "cell_type": "markdown",
   "metadata": {},
   "source": [
    "Defining tool schemas with Pydantic class"
   ]
  },
  {
   "cell_type": "code",
   "execution_count": 62,
   "metadata": {},
   "outputs": [],
   "source": [
    "# from pydantic import BaseModel, Field\n",
    "\n",
    "# class get_current_weather(BaseModel):\n",
    "#     \"\"\"Get the current weather in a given location.\"\"\"\n",
    "#     location: str = Field(..., description=\"The location to get the weather for.\")\n",
    "    \n",
    "# class get_weather_forecast(BaseModel):\n",
    "#     \"\"\"Get the weather forecast for a given location.\"\"\"\n",
    "#     location: str = Field(..., description=\"The location to get the weather forecast for.\")\n",
    "    \n",
    "# class get_holidays(BaseModel):\n",
    "#     \"\"\"Get the upcoming holidays for a given location.\"\"\"\n",
    "#     location: str = Field(..., description=\"The location to get the upcoming holidays for.\")\n",
    "    \n",
    "# class get_currency_exchange(BaseModel):\n",
    "#     \"\"\"Get the exchange rate between two currencies.\"\"\"\n",
    "#     from_currency: str = Field(..., description=\"The currency to convert from.\")\n",
    "#     to_currency: str = Field(..., description=\"The currency to convert to.\")"
   ]
  },
  {
   "cell_type": "code",
   "execution_count": 5,
   "metadata": {},
   "outputs": [],
   "source": [
    "from langchain_openai import ChatOpenAI\n",
    "\n",
    "llm = ChatOpenAI(model=\"gpt-3.5-turbo-0125\")"
   ]
  },
  {
   "cell_type": "code",
   "execution_count": 7,
   "metadata": {},
   "outputs": [],
   "source": [
    "llm_with_tools = llm.bind_tools(tools)"
   ]
  },
  {
   "cell_type": "code",
   "execution_count": 8,
   "metadata": {},
   "outputs": [],
   "source": [
    "query = \"I am planning to move to Cananda ,from Kenya, for my masters degree. what is the wather in Canada,and exchange rate between my currency and thiers?\""
   ]
  },
  {
   "cell_type": "code",
   "execution_count": 9,
   "metadata": {},
   "outputs": [],
   "source": [
    "chain = llm_with_tools \n",
    "reponse = chain.invoke(query)"
   ]
  },
  {
   "cell_type": "code",
   "execution_count": 10,
   "metadata": {},
   "outputs": [
    {
     "data": {
      "text/plain": [
       "AIMessage(content='', additional_kwargs={'tool_calls': [{'id': 'call_HFCAVLq8C7yxqcC4EojjEDyl', 'function': {'arguments': '{\"location\": \"Canada\"}', 'name': 'get_current_weather'}, 'type': 'function'}, {'id': 'call_mrQf9acYwNVgmLX2TawWntuA', 'function': {'arguments': '{\"from_currency\": \"KES\", \"to_currency\": \"CAD\"}', 'name': 'get_currency_exchange'}, 'type': 'function'}], 'refusal': None}, response_metadata={'token_usage': {'completion_tokens': 52, 'prompt_tokens': 230, 'total_tokens': 282, 'completion_tokens_details': {'audio_tokens': None, 'reasoning_tokens': 0}, 'prompt_tokens_details': {'audio_tokens': None, 'cached_tokens': 0}}, 'model_name': 'gpt-3.5-turbo-0125', 'system_fingerprint': None, 'finish_reason': 'tool_calls', 'logprobs': None}, id='run-4421ae8d-2d70-4249-afbc-452d769da723-0', tool_calls=[{'name': 'get_current_weather', 'args': {'location': 'Canada'}, 'id': 'call_HFCAVLq8C7yxqcC4EojjEDyl', 'type': 'tool_call'}, {'name': 'get_currency_exchange', 'args': {'from_currency': 'KES', 'to_currency': 'CAD'}, 'id': 'call_mrQf9acYwNVgmLX2TawWntuA', 'type': 'tool_call'}], usage_metadata={'input_tokens': 230, 'output_tokens': 52, 'total_tokens': 282, 'input_token_details': {'cache_read': 0}, 'output_token_details': {'reasoning': 0}})"
      ]
     },
     "execution_count": 10,
     "metadata": {},
     "output_type": "execute_result"
    }
   ],
   "source": [
    "reponse"
   ]
  },
  {
   "cell_type": "code",
   "execution_count": 12,
   "metadata": {},
   "outputs": [
    {
     "data": {
      "text/plain": [
       "[{'name': 'get_current_weather',\n",
       "  'args': {'location': 'Canada'},\n",
       "  'id': 'call_HFCAVLq8C7yxqcC4EojjEDyl',\n",
       "  'type': 'tool_call'},\n",
       " {'name': 'get_currency_exchange',\n",
       "  'args': {'from_currency': 'KES', 'to_currency': 'CAD'},\n",
       "  'id': 'call_mrQf9acYwNVgmLX2TawWntuA',\n",
       "  'type': 'tool_call'}]"
      ]
     },
     "execution_count": 12,
     "metadata": {},
     "output_type": "execute_result"
    }
   ],
   "source": [
    "reponse.tool_calls"
   ]
  },
  {
   "cell_type": "code",
   "execution_count": 13,
   "metadata": {},
   "outputs": [
    {
     "name": "stdout",
     "output_type": "stream",
     "text": [
      "Tool: name='get_current_weather' description='Get the current weather in a given location.\\n    Args:\\n        location: The location to get the weather for.' args_schema=<class 'langchain_core.utils.pydantic.get_current_weather'> func=<function get_current_weather at 0x7fdeac20fe20>\n",
      "Arguments: {'location': 'Canada'}\n",
      "\n",
      "Response: The current weather in Canada is sunny.\n",
      "\n",
      "\n",
      "Tool: name='get_currency_exchange' description='Get the exchange rate between two currencies.\\n    Args:\\n        from_currency: The currency to convert from.\\n        to_currency: The currency to convert to.' args_schema=<class 'langchain_core.utils.pydantic.get_currency_exchange'> func=<function get_currency_exchange at 0x7fdebc146840>\n",
      "Arguments: {'from_currency': 'KES', 'to_currency': 'CAD'}\n",
      "\n",
      "Response: The exchange rate between KES and CAD is 1.0.\n",
      "\n",
      "\n"
     ]
    },
    {
     "name": "stderr",
     "output_type": "stream",
     "text": [
      "/tmp/ipykernel_37716/948009541.py:5: LangChainDeprecationWarning: The method `BaseTool.__call__` was deprecated in langchain-core 0.1.47 and will be removed in 1.0. Use :meth:`~invoke` instead.\n",
      "  tool_response = tool(tool_args)\n"
     ]
    }
   ],
   "source": [
    "for tool_call in reponse.tool_calls:\n",
    "    selected_tool_name = tool_call['name']\n",
    "    tool_args = tool_call['args']\n",
    "    tool = tool_look_up[selected_tool_name]\n",
    "    tool_response = tool(tool_args)\n",
    "    \n",
    "    print(f\"Tool: {tool}\")\n",
    "    print(f\"Arguments: {tool_args}\")\n",
    "    print()\n",
    "    print(f\"Response: {tool_response}\")\n",
    "    print()\n",
    "    print()"
   ]
  },
  {
   "cell_type": "code",
   "execution_count": null,
   "metadata": {},
   "outputs": [],
   "source": []
  },
  {
   "cell_type": "code",
   "execution_count": null,
   "metadata": {},
   "outputs": [],
   "source": []
  },
  {
   "cell_type": "code",
   "execution_count": null,
   "metadata": {},
   "outputs": [],
   "source": []
  },
  {
   "cell_type": "code",
   "execution_count": null,
   "metadata": {},
   "outputs": [],
   "source": []
  },
  {
   "cell_type": "code",
   "execution_count": null,
   "metadata": {},
   "outputs": [],
   "source": []
  },
  {
   "cell_type": "code",
   "execution_count": null,
   "metadata": {},
   "outputs": [],
   "source": []
  },
  {
   "cell_type": "code",
   "execution_count": null,
   "metadata": {},
   "outputs": [],
   "source": []
  },
  {
   "cell_type": "code",
   "execution_count": null,
   "metadata": {},
   "outputs": [],
   "source": []
  },
  {
   "cell_type": "code",
   "execution_count": null,
   "metadata": {},
   "outputs": [],
   "source": []
  },
  {
   "cell_type": "code",
   "execution_count": null,
   "metadata": {},
   "outputs": [],
   "source": []
  },
  {
   "cell_type": "code",
   "execution_count": null,
   "metadata": {},
   "outputs": [],
   "source": []
  }
 ],
 "metadata": {
  "kernelspec": {
   "display_name": ".venv",
   "language": "python",
   "name": "python3"
  },
  "language_info": {
   "codemirror_mode": {
    "name": "ipython",
    "version": 3
   },
   "file_extension": ".py",
   "mimetype": "text/x-python",
   "name": "python",
   "nbconvert_exporter": "python",
   "pygments_lexer": "ipython3",
   "version": "3.8.10"
  }
 },
 "nbformat": 4,
 "nbformat_minor": 2
}
