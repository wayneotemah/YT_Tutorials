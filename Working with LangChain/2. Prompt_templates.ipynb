{
 "cells": [
  {
   "cell_type": "markdown",
   "metadata": {},
   "source": [
    "## Prompt Templates"
   ]
  },
  {
   "cell_type": "markdown",
   "metadata": {},
   "source": [
    "It helps in structuring input prompts to optimize the performance and output quality of LLMs when used programmatically.\n",
    "\n",
    "Purpose of Prompt Templating\n",
    "- Improved Output Quality \n",
    "- Consistency\n",
    "- Efficiency\n",
    "\n",
    "Key Concepts in Prompt Templating\n",
    "- Context Setting\n",
    "- Task Specification\n",
    "- Formatting Guidelines\n",
    "- Error Handling"
   ]
  },
  {
   "cell_type": "markdown",
   "metadata": {},
   "source": [
    "Prompt templates are predefined recipes for generating prompts for language models."
   ]
  },
  {
   "cell_type": "markdown",
   "metadata": {},
   "source": []
  },
  {
   "cell_type": "markdown",
   "metadata": {},
   "source": [
    "## Lets code"
   ]
  },
  {
   "cell_type": "markdown",
   "metadata": {},
   "source": [
    "###  `Prompt Templates`"
   ]
  },
  {
   "cell_type": "code",
   "execution_count": 1,
   "metadata": {},
   "outputs": [],
   "source": [
    "from langchain_core.prompts import PromptTemplate\n",
    "from langchain_openai import ChatOpenAI\n",
    "\n",
    "\n",
    "chat_model = ChatOpenAI(model=\"gpt-3.5-turbo-0125\")"
   ]
  },
  {
   "cell_type": "code",
   "execution_count": 9,
   "metadata": {},
   "outputs": [],
   "source": [
    "prompt = PromptTemplate.from_template(\"what is the fun activities i can do in {location}?\")"
   ]
  },
  {
   "cell_type": "code",
   "execution_count": 16,
   "metadata": {},
   "outputs": [],
   "source": [
    "user_input=\"Somalia\""
   ]
  },
  {
   "cell_type": "code",
   "execution_count": 17,
   "metadata": {},
   "outputs": [
    {
     "data": {
      "text/plain": [
       "PromptTemplate(input_variables=['location'], input_types={}, partial_variables={}, template='what is the fun activities i can do in {location}')"
      ]
     },
     "execution_count": 17,
     "metadata": {},
     "output_type": "execute_result"
    }
   ],
   "source": [
    "prompt"
   ]
  },
  {
   "cell_type": "code",
   "execution_count": 18,
   "metadata": {},
   "outputs": [],
   "source": [
    "message = prompt.format(location = user_input)\n"
   ]
  },
  {
   "cell_type": "code",
   "execution_count": 19,
   "metadata": {},
   "outputs": [
    {
     "data": {
      "text/plain": [
       "'what is the fun activities i can do in Somalia'"
      ]
     },
     "execution_count": 19,
     "metadata": {},
     "output_type": "execute_result"
    }
   ],
   "source": [
    "message"
   ]
  },
  {
   "cell_type": "code",
   "execution_count": 20,
   "metadata": {},
   "outputs": [],
   "source": [
    "response = chat_model.invoke(message)"
   ]
  },
  {
   "cell_type": "code",
   "execution_count": 21,
   "metadata": {},
   "outputs": [
    {
     "data": {
      "text/plain": [
       "\"1. Visit the beaches: Somalia has beautiful beaches along its coastline, such as Lido Beach in Mogadishu, where you can relax, swim, and enjoy water sports.\\n\\n2. Explore historical sites: Somalia has a rich history, with ancient ruins and historical sites to explore, such as the old city of Berbera and the ruins of the ancient port city of Zeila.\\n\\n3. Go on a safari: Somalia has diverse wildlife and natural landscapes to explore, such as the Kismayo National Park, where you can go on a safari and see animals like elephants, giraffes, and antelopes.\\n\\n4. Try traditional Somali cuisine: Sample delicious Somali dishes like camel meat, sambusas, and banana bread at local restaurants and markets.\\n\\n5. Attend cultural events: Experience Somali culture by attending traditional events such as weddings, festivals, and music and dance performances.\\n\\n6. Go shopping: Explore local markets and shops to buy unique handicrafts, textiles, and souvenirs to take home.\\n\\n7. Take a boat tour: Explore Somalia's coastline and islands by taking a boat tour, where you can go snorkeling, fishing, or simply enjoy the beautiful views.\\n\\n8. Visit museums and art galleries: Learn about Somali history and culture by visiting museums and art galleries, such as the National Museum in Mogadishu and the Hargeisa Cultural Center.\""
      ]
     },
     "execution_count": 21,
     "metadata": {},
     "output_type": "execute_result"
    }
   ],
   "source": [
    "response.content"
   ]
  },
  {
   "cell_type": "code",
   "execution_count": null,
   "metadata": {},
   "outputs": [],
   "source": []
  },
  {
   "cell_type": "markdown",
   "metadata": {},
   "source": [
    "### `ChatPromptTemplate`"
   ]
  },
  {
   "cell_type": "markdown",
   "metadata": {},
   "source": [
    "`SystemMessage`: Message for priming AI behavior. The system message is usually passed in as the first of a sequence of input messages.\n",
    "\n",
    "`HumanMessagePromptTemplate`:Human message prompt template. This is a message sent from the user"
   ]
  },
  {
   "cell_type": "code",
   "execution_count": 31,
   "metadata": {},
   "outputs": [],
   "source": [
    "from langchain_core.prompts import ChatPromptTemplate\n",
    "from langchain_core.messages import SystemMessage\n",
    "from langchain.prompts import HumanMessagePromptTemplate\n",
    "\n",
    "\n",
    "\n",
    "chat_template = ChatPromptTemplate.from_messages(\n",
    "    [\n",
    "        SystemMessage(content=\"You are a helpful Travel Agent AI bot, and your role is to users any question the user might have regarding travel.Do not answer any unrelated question \"),\n",
    "        HumanMessagePromptTemplate.from_template(\"\"\"\n",
    "                                                 This is the users input answer as best as you can:\n",
    "                                                 {user_input}\n",
    "                                                 \"\"\"),\n",
    "    ]\n",
    ")"
   ]
  },
  {
   "cell_type": "code",
   "execution_count": 32,
   "metadata": {},
   "outputs": [],
   "source": [
    "user_input = \"who is the vice president of kenya?\""
   ]
  },
  {
   "cell_type": "code",
   "execution_count": 33,
   "metadata": {},
   "outputs": [],
   "source": [
    "messages = chat_template.format_messages(user_input = user_input )"
   ]
  },
  {
   "cell_type": "code",
   "execution_count": 34,
   "metadata": {},
   "outputs": [
    {
     "data": {
      "text/plain": [
       "[SystemMessage(content='You are a helpful Travel Agent AI bot, and your role is to users any question the user might have regarding travel. Do not answer any unrelated question ', additional_kwargs={}, response_metadata={}),\n",
       " HumanMessage(content='\\n                                                 This is the users input answer as best as you can:\\n                                                 who is the vice president of kenya?\\n                                                 ', additional_kwargs={}, response_metadata={})]"
      ]
     },
     "execution_count": 34,
     "metadata": {},
     "output_type": "execute_result"
    }
   ],
   "source": [
    "messages"
   ]
  },
  {
   "cell_type": "code",
   "execution_count": 35,
   "metadata": {},
   "outputs": [
    {
     "data": {
      "text/plain": [
       "\"I'm sorry, but I can only provide information and assistance related to travel. If you have any questions about flights, hotels, destinations, or any other travel-related inquiries, feel free to ask!\""
      ]
     },
     "execution_count": 35,
     "metadata": {},
     "output_type": "execute_result"
    }
   ],
   "source": [
    "response = chat_model.invoke(messages)\n",
    "response.content"
   ]
  },
  {
   "cell_type": "code",
   "execution_count": null,
   "metadata": {},
   "outputs": [],
   "source": []
  },
  {
   "cell_type": "code",
   "execution_count": null,
   "metadata": {},
   "outputs": [],
   "source": []
  }
 ],
 "metadata": {
  "kernelspec": {
   "display_name": ".venv",
   "language": "python",
   "name": "python3"
  },
  "language_info": {
   "codemirror_mode": {
    "name": "ipython",
    "version": 3
   },
   "file_extension": ".py",
   "mimetype": "text/x-python",
   "name": "python",
   "nbconvert_exporter": "python",
   "pygments_lexer": "ipython3",
   "version": "3.12.4"
  }
 },
 "nbformat": 4,
 "nbformat_minor": 2
}
