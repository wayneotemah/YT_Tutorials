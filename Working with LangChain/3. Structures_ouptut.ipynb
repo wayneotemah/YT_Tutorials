{
 "cells": [
  {
   "cell_type": "markdown",
   "metadata": {},
   "source": [
    "## Structured Output from your LLM (Json Persing)"
   ]
  },
  {
   "cell_type": "code",
   "execution_count": 51,
   "metadata": {},
   "outputs": [],
   "source": [
    "from langchain.output_parsers import PydanticOutputParser\n",
    "from langchain_core.prompts import PromptTemplate\n",
    "from pydantic import BaseModel, Field\n",
    "from langchain_openai import ChatOpenAI\n",
    "from typing import List"
   ]
  },
  {
   "cell_type": "code",
   "execution_count": 52,
   "metadata": {},
   "outputs": [],
   "source": [
    "model = ChatOpenAI(model_name=\"gpt-3.5-turbo-0125\")"
   ]
  },
  {
   "cell_type": "markdown",
   "metadata": {},
   "source": [
    "Define the output structure we want from the model"
   ]
  },
  {
   "cell_type": "code",
   "execution_count": 59,
   "metadata": {},
   "outputs": [],
   "source": [
    "class Activity(BaseModel):\n",
    "    \n",
    "    location: str = Field(title=\"Location\", description=\"Location for fun activity\")\n",
    "    # add a desription field for the location\n",
    "    activity: List[str] = Field(title = \"Activity\", description=\"List of fun activities that one can do in the location\")\n",
    "    \n",
    "class ListActivities(BaseModel):\n",
    "    activities: List[Activity] = Field(title = \"Activities\", description=\"List of fun locations and the activities that one can do in the location\")"
   ]
  },
  {
   "cell_type": "code",
   "execution_count": 60,
   "metadata": {},
   "outputs": [],
   "source": [
    "# Set up a parser\n",
    "parser = PydanticOutputParser(pydantic_object=ListActivities)"
   ]
  },
  {
   "cell_type": "code",
   "execution_count": 61,
   "metadata": {},
   "outputs": [
    {
     "data": {
      "text/plain": [
       "'The output should be formatted as a JSON instance that conforms to the JSON schema below.\\n\\nAs an example, for the schema {\"properties\": {\"foo\": {\"title\": \"Foo\", \"description\": \"a list of strings\", \"type\": \"array\", \"items\": {\"type\": \"string\"}}}, \"required\": [\"foo\"]}\\nthe object {\"foo\": [\"bar\", \"baz\"]} is a well-formatted instance of the schema. The object {\"properties\": {\"foo\": [\"bar\", \"baz\"]}} is not well-formatted.\\n\\nHere is the output schema:\\n```\\n{\"$defs\": {\"Activity\": {\"properties\": {\"location\": {\"description\": \"Location for fun activity\", \"title\": \"Location\", \"type\": \"string\"}, \"activity\": {\"description\": \"List of fun activities that one can do in the location\", \"items\": {\"type\": \"string\"}, \"title\": \"Activity\", \"type\": \"array\"}}, \"required\": [\"location\", \"activity\"], \"title\": \"Activity\", \"type\": \"object\"}}, \"properties\": {\"activities\": {\"description\": \"List of fun locations and the activities that one can do in the location\", \"items\": {\"$ref\": \"#/$defs/Activity\"}, \"title\": \"Activities\", \"type\": \"array\"}}, \"required\": [\"activities\"]}\\n```'"
      ]
     },
     "execution_count": 61,
     "metadata": {},
     "output_type": "execute_result"
    }
   ],
   "source": [
    "parser.get_format_instructions()"
   ]
  },
  {
   "cell_type": "code",
   "execution_count": 62,
   "metadata": {},
   "outputs": [],
   "source": [
    "# inject instructions into the prompt template.\n",
    "prompt = PromptTemplate(\n",
    "    template=\"\"\"\n",
    "    Your are a helpful travel agent AI bot and your role is to answer any tavel related question the user might ask.\n",
    "    Here is the users question: {user_input}\n",
    "    \n",
    "    {format_instructions}\n",
    "    \n",
    "    \"\"\",\n",
    "    input_variables=[\"user_input\"],\n",
    "    partial_variables={\"format_instructions\": parser.get_format_instructions()},\n",
    ")"
   ]
  },
  {
   "cell_type": "code",
   "execution_count": 63,
   "metadata": {},
   "outputs": [
    {
     "data": {
      "text/plain": [
       "PromptTemplate(input_variables=['user_input'], input_types={}, partial_variables={'format_instructions': 'The output should be formatted as a JSON instance that conforms to the JSON schema below.\\n\\nAs an example, for the schema {\"properties\": {\"foo\": {\"title\": \"Foo\", \"description\": \"a list of strings\", \"type\": \"array\", \"items\": {\"type\": \"string\"}}}, \"required\": [\"foo\"]}\\nthe object {\"foo\": [\"bar\", \"baz\"]} is a well-formatted instance of the schema. The object {\"properties\": {\"foo\": [\"bar\", \"baz\"]}} is not well-formatted.\\n\\nHere is the output schema:\\n```\\n{\"$defs\": {\"Activity\": {\"properties\": {\"location\": {\"description\": \"Location for fun activity\", \"title\": \"Location\", \"type\": \"string\"}, \"activity\": {\"description\": \"List of fun activities that one can do in the location\", \"items\": {\"type\": \"string\"}, \"title\": \"Activity\", \"type\": \"array\"}}, \"required\": [\"location\", \"activity\"], \"title\": \"Activity\", \"type\": \"object\"}}, \"properties\": {\"activities\": {\"description\": \"List of fun locations and the activities that one can do in the location\", \"items\": {\"$ref\": \"#/$defs/Activity\"}, \"title\": \"Activities\", \"type\": \"array\"}}, \"required\": [\"activities\"]}\\n```'}, template='\\n    Your are a helpful travel agent AI bot and your role is to answer any tavel related question the user might ask.\\n    Here is the users question: {user_input}\\n    \\n    {format_instructions}\\n    \\n    ')"
      ]
     },
     "execution_count": 63,
     "metadata": {},
     "output_type": "execute_result"
    }
   ],
   "source": [
    "prompt"
   ]
  },
  {
   "cell_type": "markdown",
   "metadata": {},
   "source": [
    "develope the chain and invoke"
   ]
  },
  {
   "cell_type": "code",
   "execution_count": 64,
   "metadata": {},
   "outputs": [],
   "source": [
    "chain = prompt | model | parser\n",
    "response = chain.invoke({\"user_input\":\"what can i do in Tanzania?\"})"
   ]
  },
  {
   "cell_type": "code",
   "execution_count": 67,
   "metadata": {},
   "outputs": [
    {
     "data": {
      "text/plain": [
       "Activity(location='Serengeti National Park', activity=['Safari game drives', 'Hot air balloon safaris', 'Cultural visits to local tribes'])"
      ]
     },
     "execution_count": 67,
     "metadata": {},
     "output_type": "execute_result"
    }
   ],
   "source": [
    "response.activities[0]"
   ]
  },
  {
   "cell_type": "code",
   "execution_count": 69,
   "metadata": {},
   "outputs": [],
   "source": [
    "res_dict = response.dict()"
   ]
  },
  {
   "cell_type": "code",
   "execution_count": 75,
   "metadata": {},
   "outputs": [
    {
     "data": {
      "text/plain": [
       "{'location': 'Serengeti National Park',\n",
       " 'activity': ['Safari game drives',\n",
       "  'Hot air balloon safaris',\n",
       "  'Cultural visits to local tribes']}"
      ]
     },
     "execution_count": 75,
     "metadata": {},
     "output_type": "execute_result"
    }
   ],
   "source": [
    "res_dict[\"activities\"][0]"
   ]
  },
  {
   "cell_type": "code",
   "execution_count": null,
   "metadata": {},
   "outputs": [],
   "source": []
  }
 ],
 "metadata": {
  "kernelspec": {
   "display_name": ".venv",
   "language": "python",
   "name": "python3"
  },
  "language_info": {
   "codemirror_mode": {
    "name": "ipython",
    "version": 3
   },
   "file_extension": ".py",
   "mimetype": "text/x-python",
   "name": "python",
   "nbconvert_exporter": "python",
   "pygments_lexer": "ipython3",
   "version": "3.12.4"
  }
 },
 "nbformat": 4,
 "nbformat_minor": 2
}
